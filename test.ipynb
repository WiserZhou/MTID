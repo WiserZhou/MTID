{
 "cells": [
  {
   "cell_type": "code",
   "execution_count": 6,
   "metadata": {},
   "outputs": [
    {
     "name": "stdout",
     "output_type": "stream",
     "text": [
      "0: zero\n",
      "1: one\n",
      "2: two\n",
      "3: three\n",
      "4: four\n",
      "5: five\n",
      "6: six\n",
      "7: seven\n",
      "8: eight\n",
      "9: nine\n",
      "10: ten\n",
      "11: eleven\n",
      "12: twelve\n",
      "13: thirteen\n",
      "14: fourteen\n",
      "15: fifteen\n",
      "16: sixteen\n",
      "17: seventeen\n",
      "18: eighteen\n",
      "19: nineteen\n"
     ]
    }
   ],
   "source": [
    "def number_to_words(n):\n",
    "    if not 0 <= n < 20:\n",
    "        return \"Number out of range\"\n",
    "\n",
    "    words = [\"zero\", \"one\", \"two\", \"three\", \"four\", \"five\", \"six\", \"seven\", \"eight\", \n",
    "             \"nine\", \"ten\", \"eleven\", \"twelve\", \"thirteen\", \"fourteen\", \"fifteen\", \n",
    "             \"sixteen\", \"seventeen\", \"eighteen\", \"nineteen\"]\n",
    "\n",
    "    return words[n]\n",
    "\n",
    "# 测试\n",
    "for i in range(20):\n",
    "    print(f\"{i}: {number_to_words(i)}\")\n"
   ]
  },
  {
   "cell_type": "code",
   "execution_count": null,
   "metadata": {},
   "outputs": [],
   "source": [
    "class CausalCrossAttention(nn.Module):\n",
    "    def __init__(self, observation_dim, embed_dim, num_heads):\n",
    "        super().__init__()\n",
    "        self.multihead_attn = nn.MultiheadAttention(\n",
    "            embed_dim, num_heads, batch_first=False)\n",
    "        self.layer_norm = nn.LayerNorm(embed_dim)\n",
    "        self.ffn = nn.Sequential(\n",
    "            nn.Linear(embed_dim, embed_dim * 4),\n",
    "            nn.Mish(),\n",
    "            nn.Linear(embed_dim * 4, embed_dim)\n",
    "        )\n",
    "        self.linear = nn.Linear(observation_dim, embed_dim)\n",
    "\n",
    "    def forward(self, x, context):\n",
    "        # Ensure context has the correct shape for the linear layer\n",
    "        context = context.unsqueeze(2)  # Add sequence length dimension\n",
    "\n",
    "        # Rearrange x and context for compatibility with MultiheadAttention\n",
    "        x = rearrange(x, 'b t c -> c b t')\n",
    "        context = rearrange(context, 'b s c -> c b s')\n",
    "        \n",
    "        # Transform context to the embedding space\n",
    "        context = self.linear(context)\n",
    "        \n",
    "        # Create a causal mask\n",
    "        # Assuming x's shape is (embed_dim, batch_size, sequence_length)\n",
    "        # We create a lower triangular mask of size (sequence_length, sequence_length)\n",
    "        seq_len = x.shape[2]\n",
    "        causal_mask = torch.tril(torch.ones(seq_len, seq_len)).to(x.device).bool()\n",
    "\n",
    "        # Apply causal mask in the attention mechanism\n",
    "        attn_output, _ = self.multihead_attn(x, context, context, attn_mask=causal_mask)\n",
    "        \n",
    "        # Residual connection and layer normalization\n",
    "        x = x + attn_output\n",
    "        x = self.layer_norm(x)\n",
    "        \n",
    "        # Feed-forward network\n",
    "        x = x + self.ffn(x)\n",
    "        \n",
    "        # Return to original shape\n",
    "        x = rearrange(x, 'c b t -> b t c')\n",
    "        return x"
   ]
  }
 ],
 "metadata": {
  "kernelspec": {
   "display_name": "PDPP",
   "language": "python",
   "name": "python3"
  },
  "language_info": {
   "codemirror_mode": {
    "name": "ipython",
    "version": 3
   },
   "file_extension": ".py",
   "mimetype": "text/x-python",
   "name": "python",
   "nbconvert_exporter": "python",
   "pygments_lexer": "ipython3",
   "version": "3.10.14"
  }
 },
 "nbformat": 4,
 "nbformat_minor": 2
}
