{
 "cells": [
  {
   "cell_type": "code",
   "execution_count": 6,
   "metadata": {},
   "outputs": [
    {
     "name": "stdout",
     "output_type": "stream",
     "text": [
      "0: zero\n",
      "1: one\n",
      "2: two\n",
      "3: three\n",
      "4: four\n",
      "5: five\n",
      "6: six\n",
      "7: seven\n",
      "8: eight\n",
      "9: nine\n",
      "10: ten\n",
      "11: eleven\n",
      "12: twelve\n",
      "13: thirteen\n",
      "14: fourteen\n",
      "15: fifteen\n",
      "16: sixteen\n",
      "17: seventeen\n",
      "18: eighteen\n",
      "19: nineteen\n"
     ]
    }
   ],
   "source": [
    "def number_to_words(n):\n",
    "    if not 0 <= n < 20:\n",
    "        return \"Number out of range\"\n",
    "\n",
    "    words = [\"zero\", \"one\", \"two\", \"three\", \"four\", \"five\", \"six\", \"seven\", \"eight\", \n",
    "             \"nine\", \"ten\", \"eleven\", \"twelve\", \"thirteen\", \"fourteen\", \"fifteen\", \n",
    "             \"sixteen\", \"seventeen\", \"eighteen\", \"nineteen\"]\n",
    "\n",
    "    return words[n]\n",
    "\n",
    "# 测试\n",
    "for i in range(20):\n",
    "    print(f\"{i}: {number_to_words(i)}\")\n"
   ]
  }
 ],
 "metadata": {
  "kernelspec": {
   "display_name": "PDPP",
   "language": "python",
   "name": "python3"
  },
  "language_info": {
   "codemirror_mode": {
    "name": "ipython",
    "version": 3
   },
   "file_extension": ".py",
   "mimetype": "text/x-python",
   "name": "python",
   "nbconvert_exporter": "python",
   "pygments_lexer": "ipython3",
   "version": "3.10.14"
  }
 },
 "nbformat": 4,
 "nbformat_minor": 2
}
